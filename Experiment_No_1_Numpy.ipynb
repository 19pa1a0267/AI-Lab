{
  "nbformat": 4,
  "nbformat_minor": 0,
  "metadata": {
    "colab": {
      "name": "Experiment No:1 Numpy ",
      "provenance": [],
      "collapsed_sections": [],
      "authorship_tag": "ABX9TyNPesdQ73mJHoE271U5D0nE",
      "include_colab_link": true
    },
    "kernelspec": {
      "name": "python3",
      "display_name": "Python 3"
    }
  },
  "cells": [
    {
      "cell_type": "markdown",
      "metadata": {
        "id": "view-in-github",
        "colab_type": "text"
      },
      "source": [
        "<a href=\"https://colab.research.google.com/github/19pa1a0267/AI-Lab/blob/master/Experiment_No_1_Numpy.ipynb\" target=\"_parent\"><img src=\"https://colab.research.google.com/assets/colab-badge.svg\" alt=\"Open In Colab\"/></a>"
      ]
    },
    {
      "cell_type": "code",
      "metadata": {
        "id": "DKefgP3FXnUJ",
        "colab_type": "code",
        "colab": {
          "base_uri": "https://localhost:8080/",
          "height": 34
        },
        "outputId": "e817bf10-4df5-435c-eec4-d406697ff849"
      },
      "source": [
        "import numpy as np \n",
        "p=np.array([1,2,3])\n",
        "print(p)"
      ],
      "execution_count": null,
      "outputs": [
        {
          "output_type": "stream",
          "text": [
            "[1 2 3]\n"
          ],
          "name": "stdout"
        }
      ]
    },
    {
      "cell_type": "markdown",
      "metadata": {
        "id": "ZT_OqK5-X5AB",
        "colab_type": "text"
      },
      "source": [
        "1 2) ADD,REMOVE, MODIFY array elements add"
      ]
    },
    {
      "cell_type": "code",
      "metadata": {
        "id": "IF8y4wYjYE6A",
        "colab_type": "code",
        "colab": {}
      },
      "source": [
        ""
      ],
      "execution_count": null,
      "outputs": []
    },
    {
      "cell_type": "code",
      "metadata": {
        "id": "LByVp-sDYOG6",
        "colab_type": "code",
        "colab": {
          "base_uri": "https://localhost:8080/",
          "height": 34
        },
        "outputId": "786d5f51-81b7-43b9-baf7-6cec29599f8d"
      },
      "source": [
        "f=np.array([4,8,9])\n",
        "q=np.append(f,[6,5,8])\n",
        "print(q)"
      ],
      "execution_count": null,
      "outputs": [
        {
          "output_type": "stream",
          "text": [
            "[4 8 9 6 5 8]\n"
          ],
          "name": "stdout"
        }
      ]
    },
    {
      "cell_type": "markdown",
      "metadata": {
        "id": "6LuVL1yZYv1E",
        "colab_type": "text"
      },
      "source": [
        " remove"
      ]
    },
    {
      "cell_type": "code",
      "metadata": {
        "id": "fqIq4rg_Y49F",
        "colab_type": "code",
        "colab": {}
      },
      "source": [
        ""
      ],
      "execution_count": null,
      "outputs": []
    },
    {
      "cell_type": "code",
      "metadata": {
        "id": "LLh30CepY6eh",
        "colab_type": "code",
        "colab": {
          "base_uri": "https://localhost:8080/",
          "height": 34
        },
        "outputId": "64628998-3345-434b-d4e0-dd77e83e588d"
      },
      "source": [
        "c=np.delete(f,2)\n",
        "print(c)"
      ],
      "execution_count": null,
      "outputs": [
        {
          "output_type": "stream",
          "text": [
            "[4 8]\n"
          ],
          "name": "stdout"
        }
      ]
    },
    {
      "cell_type": "markdown",
      "metadata": {
        "id": "k3ujVycxZY5e",
        "colab_type": "text"
      },
      "source": [
        "modify"
      ]
    },
    {
      "cell_type": "code",
      "metadata": {
        "id": "ss7DYqrwZbRD",
        "colab_type": "code",
        "colab": {}
      },
      "source": [
        ""
      ],
      "execution_count": null,
      "outputs": []
    },
    {
      "cell_type": "code",
      "metadata": {
        "id": "XrX_PP3tZcC5",
        "colab_type": "code",
        "colab": {
          "base_uri": "https://localhost:8080/",
          "height": 34
        },
        "outputId": "c3c7850e-60ae-4d19-b05c-67ec5e4775da"
      },
      "source": [
        "c[c>5]=-1\n",
        "print(c)"
      ],
      "execution_count": null,
      "outputs": [
        {
          "output_type": "stream",
          "text": [
            "[ 4 -1]\n"
          ],
          "name": "stdout"
        }
      ]
    },
    {
      "cell_type": "markdown",
      "metadata": {
        "id": "DpmcOSxoaPz1",
        "colab_type": "text"
      },
      "source": [
        " 1 3) Arthematic operations on Numpy array"
      ]
    },
    {
      "cell_type": "code",
      "metadata": {
        "id": "DSPXH5REbZ5h",
        "colab_type": "code",
        "colab": {}
      },
      "source": [
        ""
      ],
      "execution_count": null,
      "outputs": []
    },
    {
      "cell_type": "code",
      "metadata": {
        "id": "VYzI8FIOba8L",
        "colab_type": "code",
        "colab": {
          "base_uri": "https://localhost:8080/",
          "height": 551
        },
        "outputId": "0ab63412-001d-4b0d-9a44-5bd45579f6b0"
      },
      "source": [
        "import numpy as np \n",
        "l=np.random.random((5,5))\n",
        "m=np.random.random((5,5))\n",
        "num_sum=np.add(l,m)\n",
        "num_diff=np.subtract(l,m)\n",
        "num_prod=np.multiply(l,m)\n",
        "num_quo=np.divide(l,m)\n",
        "num_mod=np.mod(l,m)\n",
        "num_pow=np.power(l,m)\n",
        "print(num_sum)\n",
        "print(num_diff)\n",
        "print(num_prod)\n",
        "print(num_quo)\n",
        "print(num_mod)\n",
        "print(num_pow)"
      ],
      "execution_count": null,
      "outputs": [
        {
          "output_type": "stream",
          "text": [
            "[[1.07257442 0.99706981 0.69191418 0.98252712 1.30756781]\n",
            " [0.91861243 1.074735   0.98533277 0.38456894 1.67723546]\n",
            " [1.30432285 1.60765399 0.69612628 0.68814277 1.14536871]\n",
            " [0.85624852 1.8641206  0.52963817 1.26780536 1.06747138]\n",
            " [1.23791078 0.94185611 1.17118612 0.9946305  1.62050699]]\n",
            "[[-0.42752364 -0.48848579 -0.23071804 -0.35995358  0.52926233]\n",
            " [ 0.76339395  0.8209582   0.18078122  0.08035324  0.1781254 ]\n",
            " [ 0.32985098 -0.37623374  0.0225876  -0.48476453  0.81371372]\n",
            " [ 0.2846232  -0.02809191  0.35357034  0.37491787  0.65463185]\n",
            " [ 0.47507735  0.57449533  0.43909548  0.64440055 -0.17372563]]\n",
            "[[0.24190986 0.18888246 0.1063786  0.20894824 0.35740374]\n",
            " [0.06526962 0.12027074 0.23454971 0.03535916 0.69534753]\n",
            " [0.39811411 0.61074988 0.1210204  0.05963596 0.16243487]\n",
            " [0.16303779 0.86853911 0.03887615 0.36669175 0.17773807]\n",
            " [0.32668115 0.13926201 0.29471802 0.14350944 0.64896557]]\n",
            "[[ 0.43000574  0.34235273  0.49986997  0.4637486   2.3600375 ]\n",
            " [10.83637964  7.46992313  1.44939623  1.52826488  1.23764152]\n",
            " [ 1.67698411  0.62071065  1.06707142  0.17339669  5.9069891 ]\n",
            " [ 1.99583829  0.97030787  5.01629695  1.83978747  4.17136225]\n",
            " [ 2.24555986  4.12769006  2.1995659   4.67987114  0.80635105]]\n",
            "[[0.32252539 0.25429201 0.23059807 0.31128677 0.14010958]\n",
            " [0.06491079 0.05962779 0.18078122 0.08035324 0.1781254 ]\n",
            " [0.32985098 0.61571012 0.0225876  0.10168912 0.15040373]\n",
            " [0.2846232  0.91801435 0.00143468 0.37491787 0.03537256]\n",
            " [0.09366063 0.02345416 0.07305016 0.11905562 0.72339068]]\n",
            "[[0.42795572 0.36165489 0.50824727 0.45686615 0.96742326]\n",
            " [0.98665109 0.99322657 0.80491721 0.8009712  0.94528617]\n",
            " [0.90626236 0.61812044 0.70845912 0.26170529 0.99657805]\n",
            " [0.85176702 0.92225634 0.93057394 0.91589232 0.96959137]\n",
            " [0.94262715 0.95042113 0.92372953 0.96574522 0.74789588]]\n"
          ],
          "name": "stdout"
        }
      ]
    },
    {
      "cell_type": "markdown",
      "metadata": {
        "id": "B7LUGcn0ghNl",
        "colab_type": "text"
      },
      "source": [
        "1 4)slicing and iterating of numpy array"
      ]
    },
    {
      "cell_type": "markdown",
      "metadata": {
        "id": "Wg2vebpxg4a2",
        "colab_type": "text"
      },
      "source": [
        "Slicing"
      ]
    },
    {
      "cell_type": "code",
      "metadata": {
        "id": "kv3qNGTxg61z",
        "colab_type": "code",
        "colab": {}
      },
      "source": [
        ""
      ],
      "execution_count": null,
      "outputs": []
    },
    {
      "cell_type": "code",
      "metadata": {
        "id": "cMdAKpgCg7z5",
        "colab_type": "code",
        "colab": {
          "base_uri": "https://localhost:8080/",
          "height": 34
        },
        "outputId": "4cad86e8-8140-4df0-c1a6-c3570bc3e10b"
      },
      "source": [
        "import numpy as np \n",
        "arr=np.array([1,2,3,4,5,6,7])\n",
        "print(arr[1:5])"
      ],
      "execution_count": null,
      "outputs": [
        {
          "output_type": "stream",
          "text": [
            "[2 3 4 5]\n"
          ],
          "name": "stdout"
        }
      ]
    },
    {
      "cell_type": "markdown",
      "metadata": {
        "id": "e3yuGDNGhPOA",
        "colab_type": "text"
      },
      "source": [
        "iterating"
      ]
    },
    {
      "cell_type": "code",
      "metadata": {
        "id": "YzBb8fY9hRW0",
        "colab_type": "code",
        "colab": {}
      },
      "source": [
        ""
      ],
      "execution_count": null,
      "outputs": []
    },
    {
      "cell_type": "code",
      "metadata": {
        "id": "ue8lboO-hSKU",
        "colab_type": "code",
        "colab": {
          "base_uri": "https://localhost:8080/",
          "height": 137
        },
        "outputId": "529ba49a-d2eb-4669-ba04-5b2ea5494bcb"
      },
      "source": [
        "for x in arr:\n",
        "  print(x)"
      ],
      "execution_count": null,
      "outputs": [
        {
          "output_type": "stream",
          "text": [
            "1\n",
            "2\n",
            "3\n",
            "4\n",
            "5\n",
            "6\n",
            "7\n"
          ],
          "name": "stdout"
        }
      ]
    },
    {
      "cell_type": "markdown",
      "metadata": {
        "id": "QmPDetbvhkeW",
        "colab_type": "text"
      },
      "source": [
        "1 5) matrix operations on bumpy arrays"
      ]
    },
    {
      "cell_type": "code",
      "metadata": {
        "id": "m6Artldohtuy",
        "colab_type": "code",
        "colab": {}
      },
      "source": [
        ""
      ],
      "execution_count": null,
      "outputs": []
    },
    {
      "cell_type": "code",
      "metadata": {
        "id": "xU2bk_EghuwC",
        "colab_type": "code",
        "colab": {
          "base_uri": "https://localhost:8080/",
          "height": 120
        },
        "outputId": "2cfcad33-c006-4ff7-90af-4dde74b22a22"
      },
      "source": [
        "import numpy as np \n",
        "s=np.array([[1,2],[3,4]])\n",
        "t=np.array([[5,6],[7,8]])\n",
        "print(np.add(s,t))\n",
        "print(np.subtract(s,t))\n",
        "print(np.divide(s,t))"
      ],
      "execution_count": null,
      "outputs": [
        {
          "output_type": "stream",
          "text": [
            "[[ 6  8]\n",
            " [10 12]]\n",
            "[[-4 -4]\n",
            " [-4 -4]]\n",
            "[[0.2        0.33333333]\n",
            " [0.42857143 0.5       ]]\n"
          ],
          "name": "stdout"
        }
      ]
    }
  ]
}