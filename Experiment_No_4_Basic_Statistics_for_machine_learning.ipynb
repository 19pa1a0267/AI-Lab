{
  "nbformat": 4,
  "nbformat_minor": 0,
  "metadata": {
    "colab": {
      "name": "Experiment No-4 Basic Statistics for machine learning ",
      "provenance": [],
      "authorship_tag": "ABX9TyOOY0e4obECkgU+6EiSVVOg",
      "include_colab_link": true
    },
    "kernelspec": {
      "name": "python3",
      "display_name": "Python 3"
    }
  },
  "cells": [
    {
      "cell_type": "markdown",
      "metadata": {
        "id": "view-in-github",
        "colab_type": "text"
      },
      "source": [
        "<a href=\"https://colab.research.google.com/github/19pa1a0267/AI-Lab/blob/master/Experiment_No_4_Basic_Statistics_for_machine_learning.ipynb\" target=\"_parent\"><img src=\"https://colab.research.google.com/assets/colab-badge.svg\" alt=\"Open In Colab\"/></a>"
      ]
    },
    {
      "cell_type": "code",
      "metadata": {
        "id": "nyOUzsN1ee6X"
      },
      "source": [
        ""
      ],
      "execution_count": null,
      "outputs": []
    },
    {
      "cell_type": "code",
      "metadata": {
        "id": "nomA1zBVfn_k"
      },
      "source": [
        " import numpy as np\n",
        "import pandas as pd\n",
        "import seaborn as sns\n",
        "import matplotlib.pyplot as plt"
      ],
      "execution_count": 2,
      "outputs": []
    },
    {
      "cell_type": "code",
      "metadata": {
        "id": "0p_cbqnDf2H9",
        "outputId": "85920158-e8ee-429e-ed7f-53dc4f6f476a",
        "colab": {
          "base_uri": "https://localhost:8080/",
          "height": 240
        }
      },
      "source": [
        " df=pd.read_csv(\"students_placement_data.csv\")\n",
        "df.head()"
      ],
      "execution_count": 3,
      "outputs": [
        {
          "output_type": "execute_result",
          "data": {
            "text/html": [
              "<div>\n",
              "<style scoped>\n",
              "    .dataframe tbody tr th:only-of-type {\n",
              "        vertical-align: middle;\n",
              "    }\n",
              "\n",
              "    .dataframe tbody tr th {\n",
              "        vertical-align: top;\n",
              "    }\n",
              "\n",
              "    .dataframe thead th {\n",
              "        text-align: right;\n",
              "    }\n",
              "</style>\n",
              "<table border=\"1\" class=\"dataframe\">\n",
              "  <thead>\n",
              "    <tr style=\"text-align: right;\">\n",
              "      <th></th>\n",
              "      <th>Roll No</th>\n",
              "      <th>Gender</th>\n",
              "      <th>Section</th>\n",
              "      <th>SSC Percentage</th>\n",
              "      <th>inter_Diploma_percentage</th>\n",
              "      <th>B.Tech_percentage</th>\n",
              "      <th>Backlogs</th>\n",
              "      <th>registered_for_ Placement_Training</th>\n",
              "      <th>placement status</th>\n",
              "    </tr>\n",
              "  </thead>\n",
              "  <tbody>\n",
              "    <tr>\n",
              "      <th>0</th>\n",
              "      <td>1</td>\n",
              "      <td>M</td>\n",
              "      <td>A</td>\n",
              "      <td>87.3</td>\n",
              "      <td>65.3</td>\n",
              "      <td>40.00</td>\n",
              "      <td>18</td>\n",
              "      <td>NO</td>\n",
              "      <td>Not placed</td>\n",
              "    </tr>\n",
              "    <tr>\n",
              "      <th>1</th>\n",
              "      <td>2</td>\n",
              "      <td>F</td>\n",
              "      <td>A</td>\n",
              "      <td>89.0</td>\n",
              "      <td>92.4</td>\n",
              "      <td>71.45</td>\n",
              "      <td>0</td>\n",
              "      <td>yes</td>\n",
              "      <td>Placed</td>\n",
              "    </tr>\n",
              "    <tr>\n",
              "      <th>2</th>\n",
              "      <td>3</td>\n",
              "      <td>F</td>\n",
              "      <td>A</td>\n",
              "      <td>67.0</td>\n",
              "      <td>68.0</td>\n",
              "      <td>45.26</td>\n",
              "      <td>13</td>\n",
              "      <td>yes</td>\n",
              "      <td>Not placed</td>\n",
              "    </tr>\n",
              "    <tr>\n",
              "      <th>3</th>\n",
              "      <td>4</td>\n",
              "      <td>M</td>\n",
              "      <td>A</td>\n",
              "      <td>71.0</td>\n",
              "      <td>70.4</td>\n",
              "      <td>36.47</td>\n",
              "      <td>17</td>\n",
              "      <td>yes</td>\n",
              "      <td>Not placed</td>\n",
              "    </tr>\n",
              "    <tr>\n",
              "      <th>4</th>\n",
              "      <td>5</td>\n",
              "      <td>M</td>\n",
              "      <td>A</td>\n",
              "      <td>NaN</td>\n",
              "      <td>65.5</td>\n",
              "      <td>42.52</td>\n",
              "      <td>17</td>\n",
              "      <td>yes</td>\n",
              "      <td>Not placed</td>\n",
              "    </tr>\n",
              "  </tbody>\n",
              "</table>\n",
              "</div>"
            ],
            "text/plain": [
              "   Roll No Gender  ... registered_for_ Placement_Training  placement status\n",
              "0        1      M  ...                                 NO        Not placed\n",
              "1        2      F  ...                                yes            Placed\n",
              "2        3      F  ...                                yes        Not placed\n",
              "3        4      M  ...                                yes        Not placed\n",
              "4        5      M  ...                                yes        Not placed\n",
              "\n",
              "[5 rows x 9 columns]"
            ]
          },
          "metadata": {
            "tags": []
          },
          "execution_count": 3
        }
      ]
    },
    {
      "cell_type": "markdown",
      "metadata": {
        "id": "XTukdx_pf9TW"
      },
      "source": [
        "#1)Central Tendency-Mean,Median,Mode"
      ]
    },
    {
      "cell_type": "markdown",
      "metadata": {
        "id": "V9GYOQlzgCmk"
      },
      "source": [
        " ##1.1)Calculate the Mean&Median of SSC Percentage,Inter_Diploma_Percentage and B.Tech_Percentage"
      ]
    },
    {
      "cell_type": "code",
      "metadata": {
        "id": "naqTKd4Fgh9S",
        "outputId": "2eb4c36a-5707-498e-cb12-eb02056ac29c",
        "colab": {
          "base_uri": "https://localhost:8080/",
          "height": 174
        }
      },
      "source": [
        " print(\"Mean of SSC score\",df[\"SSC Percentage\"].mean())\n",
        "print(\"Mean of inter_Diploma score\",df[\"inter_Diploma_percentage\"].mean())\n",
        "print(\"Mean of B.Tech score\",df[\"B.Tech_percentage\"].mean())\n",
        "print(\"\\n\")\n",
        "print(\"Median of SSC score\",df[\"SSC Percentage\"].median())\n",
        "print(\"Median of inter_Diploma score\",df[\"inter_Diploma_percentage\"].median())\n",
        "print(\"Median of B.Tech score\",df[\"B.Tech_percentage\"].median())"
      ],
      "execution_count": 5,
      "outputs": [
        {
          "output_type": "stream",
          "text": [
            "Mean of SSC score 80.47456896551722\n",
            "Mean of inter_Diploma score 80.77290598290598\n",
            "Mean of B.Tech score 62.9434188034188\n",
            "\n",
            "\n",
            "Median of SSC score 82.745\n",
            "Median of inter_Diploma score 83.6\n",
            "Median of B.Tech score 64.36\n"
          ],
          "name": "stdout"
        }
      ]
    },
    {
      "cell_type": "markdown",
      "metadata": {
        "id": "LnOi-xrnwTYZ"
      },
      "source": [
        "##1.2)Apply mode on Gender.Are there more male or Female"
      ]
    },
    {
      "cell_type": "code",
      "metadata": {
        "id": "YWaV6uxMwW_b",
        "outputId": "2cd1d60a-6dce-45c0-c4b5-1c8b63b6015c",
        "colab": {
          "base_uri": "https://localhost:8080/",
          "height": 51
        }
      },
      "source": [
        " df[\"Gender\"].mode()"
      ],
      "execution_count": 6,
      "outputs": [
        {
          "output_type": "execute_result",
          "data": {
            "text/plain": [
              "0    M\n",
              "dtype: object"
            ]
          },
          "metadata": {
            "tags": []
          },
          "execution_count": 6
        }
      ]
    },
    {
      "cell_type": "markdown",
      "metadata": {
        "id": "ulIn9cnjwmOF"
      },
      "source": [
        "##2)Distribution of Data-Range,Interquartile range,Variance,Standard deviation,Correlation"
      ]
    },
    {
      "cell_type": "markdown",
      "metadata": {
        "id": "Qf9wCXzEwpTi"
      },
      "source": [
        "##2.1)Range"
      ]
    },
    {
      "cell_type": "markdown",
      "metadata": {
        "id": "hpGCrTX3w25C"
      },
      "source": [
        "Range defines the difference between maximum and minimum value"
      ]
    },
    {
      "cell_type": "markdown",
      "metadata": {
        "id": "r1Gvroq6xnSt"
      },
      "source": [
        "#####What is the Range of SSC Percentage,Inter_Diploma_percentage and B.Tech_percentage¶"
      ]
    },
    {
      "cell_type": "code",
      "metadata": {
        "id": "sPi-MkF9xsgw",
        "outputId": "7c19fab4-3a2a-4bf4-dd64-f4d46c9d8eb6",
        "colab": {
          "base_uri": "https://localhost:8080/",
          "height": 140
        }
      },
      "source": [
        " print(\"Range in SSC Score Range\",df[[\"SSC Percentage\"]].max()-df[[\"SSC Percentage\"]].min())\n",
        "print(\"Range in inter Diploma Score Range\",df[[\"inter_Diploma_percentage\"]].max()-df[[\"inter_Diploma_percentage\"]].min())\n",
        "print(\"Range in B.tech score Range\",df[[\"B.Tech_percentage\"]].max()-df[[\"B.Tech_percentage\"]].min())"
      ],
      "execution_count": 7,
      "outputs": [
        {
          "output_type": "stream",
          "text": [
            "Range in SSC Score Range SSC Percentage    45.86\n",
            "dtype: float64\n",
            "Range in inter Diploma Score Range inter_Diploma_percentage    44.7\n",
            "dtype: float64\n",
            "Range in B.tech score Range B.Tech_percentage    56.9\n",
            "dtype: float64\n"
          ],
          "name": "stdout"
        }
      ]
    },
    {
      "cell_type": "markdown",
      "metadata": {
        "id": "BwL6qWwoyGcT"
      },
      "source": [
        "##2.2)Interquartile range"
      ]
    },
    {
      "cell_type": "markdown",
      "metadata": {
        "id": "Lty5DqhMyQ7U"
      },
      "source": [
        "Interquartile is difference between 25th percentile element and 75th percentile element.This is considered important because,elements less than or greater than this range may have outliers."
      ]
    },
    {
      "cell_type": "markdown",
      "metadata": {
        "id": "T5zJOvo9ylTt"
      },
      "source": [
        "####Find the interquartile range of SSC Percentage"
      ]
    },
    {
      "cell_type": "code",
      "metadata": {
        "id": "uq2PaxFbyv6a",
        "outputId": "bdb17ca0-237b-419c-b31b-004bd44b001e",
        "colab": {
          "base_uri": "https://localhost:8080/",
          "height": 88
        }
      },
      "source": [
        " Q1=df[\"SSC Percentage\"].quantile(0.25)\n",
        "print(\"Quartile 1 is \",Q1)\n",
        "Q3=df[\"SSC Percentage\"].quantile(0.75)\n",
        "print(\"Quartile 3 is\",Q3)\n",
        "IQR=Q3-Q1\n",
        "print(\"The inrequartile range is\",IQR)"
      ],
      "execution_count": 8,
      "outputs": [
        {
          "output_type": "stream",
          "text": [
            "Quartile 1 is  76.6225\n",
            "Quartile 3 is 87.025\n",
            "The inrequartile range is 10.402500000000003\n"
          ],
          "name": "stdout"
        }
      ]
    },
    {
      "cell_type": "markdown",
      "metadata": {
        "id": "s1iMyndbzRsa"
      },
      "source": [
        "##2.3)standard deviation"
      ]
    },
    {
      "cell_type": "markdown",
      "metadata": {
        "id": "AaKHUS8HzeRV"
      },
      "source": [
        "####Find the standard deviation of SSC Percentage,inter_Diploma_percentage and B.Tech_Percentage"
      ]
    },
    {
      "cell_type": "code",
      "metadata": {
        "id": "UC9Qv8TnzkiB",
        "outputId": "6c8deaf0-c96b-431e-a653-04d9218af932",
        "colab": {
          "base_uri": "https://localhost:8080/",
          "height": 88
        }
      },
      "source": [
        " print(\"standard deviation of SSC Score is :\",df[\"SSC Percentage\"].std())\n",
        "print(\"standard deviation of inter Diploma Score is :\",df[\"inter_Diploma_percentage\"].std())\n",
        "print(\"standard deviation of B.Tech score is :\",df[\"B.Tech_percentage\"].std())"
      ],
      "execution_count": 9,
      "outputs": [
        {
          "output_type": "stream",
          "text": [
            "standard deviation of SSC Score is : 8.836078944698352\n",
            "standard deviation of inter Diploma Score is : 11.26724785566931\n",
            "standard deviation of B.Tech score is : 12.064305584885746\n"
          ],
          "name": "stdout"
        }
      ]
    },
    {
      "cell_type": "markdown",
      "metadata": {
        "id": "plr7Kvu7z0Fy"
      },
      "source": [
        "##2.4)Variance"
      ]
    },
    {
      "cell_type": "markdown",
      "metadata": {
        "id": "ufCJ4eUDz5vR"
      },
      "source": [
        "Variance is sample square of standard deviation"
      ]
    },
    {
      "cell_type": "markdown",
      "metadata": {
        "id": "lQOUUeZx0I-C"
      },
      "source": [
        "####Find the Variance of SSC Percentage,inter_Diploma_percentage and B.Tech_percentage"
      ]
    },
    {
      "cell_type": "code",
      "metadata": {
        "id": "13GbTtZx0Pmc",
        "outputId": "8664b19a-ad38-4060-9640-2953e0458c4f",
        "colab": {
          "base_uri": "https://localhost:8080/",
          "height": 88
        }
      },
      "source": [
        " print(\"Variance of SSC Score is :\",df[\"SSC Percentage\"].var())\n",
        "print(\"Variance of inter Diploma Score is :\",df[\"inter_Diploma_percentage\"].var())\n",
        "print(\"Variance of B.Tech score is :\",df[\"B.Tech_percentage\"].var())"
      ],
      "execution_count": 10,
      "outputs": [
        {
          "output_type": "stream",
          "text": [
            "Variance of SSC Score is : 78.07629111694153\n",
            "Variance of inter Diploma Score is : 126.95087424108468\n",
            "Variance of B.Tech score is : 145.54746924550543\n"
          ],
          "name": "stdout"
        }
      ]
    },
    {
      "cell_type": "markdown",
      "metadata": {
        "id": "JKvzfdFr0afS"
      },
      "source": [
        "##2.5)Correlation"
      ]
    },
    {
      "cell_type": "markdown",
      "metadata": {
        "id": "gr9_k4SJ0iew"
      },
      "source": [
        "####Find the correlation between SSC Percentage, inter_Diploma_percentage and B.Tech Percentages¶"
      ]
    },
    {
      "cell_type": "code",
      "metadata": {
        "id": "tqahWJiG0vGY",
        "outputId": "e6d9e0aa-eedc-49a0-8983-612391b1027e",
        "colab": {
          "base_uri": "https://localhost:8080/",
          "height": 178
        }
      },
      "source": [
        " df[[\"SSC Percentage\",\"inter_Diploma_percentage\",\"B.Tech_percentage\"]].corr()"
      ],
      "execution_count": 11,
      "outputs": [
        {
          "output_type": "execute_result",
          "data": {
            "text/html": [
              "<div>\n",
              "<style scoped>\n",
              "    .dataframe tbody tr th:only-of-type {\n",
              "        vertical-align: middle;\n",
              "    }\n",
              "\n",
              "    .dataframe tbody tr th {\n",
              "        vertical-align: top;\n",
              "    }\n",
              "\n",
              "    .dataframe thead th {\n",
              "        text-align: right;\n",
              "    }\n",
              "</style>\n",
              "<table border=\"1\" class=\"dataframe\">\n",
              "  <thead>\n",
              "    <tr style=\"text-align: right;\">\n",
              "      <th></th>\n",
              "      <th>SSC Percentage</th>\n",
              "      <th>inter_Diploma_percentage</th>\n",
              "      <th>B.Tech_percentage</th>\n",
              "    </tr>\n",
              "  </thead>\n",
              "  <tbody>\n",
              "    <tr>\n",
              "      <th>SSC Percentage</th>\n",
              "      <td>1.000000</td>\n",
              "      <td>0.625586</td>\n",
              "      <td>0.492849</td>\n",
              "    </tr>\n",
              "    <tr>\n",
              "      <th>inter_Diploma_percentage</th>\n",
              "      <td>0.625586</td>\n",
              "      <td>1.000000</td>\n",
              "      <td>0.729697</td>\n",
              "    </tr>\n",
              "    <tr>\n",
              "      <th>B.Tech_percentage</th>\n",
              "      <td>0.492849</td>\n",
              "      <td>0.729697</td>\n",
              "      <td>1.000000</td>\n",
              "    </tr>\n",
              "  </tbody>\n",
              "</table>\n",
              "</div>"
            ],
            "text/plain": [
              "                          SSC Percentage  ...  B.Tech_percentage\n",
              "SSC Percentage                  1.000000  ...           0.492849\n",
              "inter_Diploma_percentage        0.625586  ...           0.729697\n",
              "B.Tech_percentage               0.492849  ...           1.000000\n",
              "\n",
              "[3 rows x 3 columns]"
            ]
          },
          "metadata": {
            "tags": []
          },
          "execution_count": 11
        }
      ]
    },
    {
      "cell_type": "markdown",
      "metadata": {
        "id": "Ck_hRd1t06Zs"
      },
      "source": [
        "##3)Draw a box plot to demonstrate Range,Interquartile range.¶"
      ]
    },
    {
      "cell_type": "markdown",
      "metadata": {
        "id": "yNm-QvtS1YMc"
      },
      "source": [
        "####Use a box plot to explain the performance of placed vs unplaced students in B.Tech"
      ]
    },
    {
      "cell_type": "code",
      "metadata": {
        "id": "fry4lunE1v-V",
        "outputId": "5ccee9a4-3d71-4547-8fe9-b14b799b3df5",
        "colab": {
          "base_uri": "https://localhost:8080/",
          "height": 276
        }
      },
      "source": [
        " sns.boxplot(x=\"placement status\",y=\"B.Tech_percentage\",data=df)"
      ],
      "execution_count": 12,
      "outputs": [
        {
          "output_type": "execute_result",
          "data": {
            "text/plain": [
              "<matplotlib.axes._subplots.AxesSubplot at 0x7f993059e828>"
            ]
          },
          "metadata": {
            "tags": []
          },
          "execution_count": 12
        },
        {
          "output_type": "display_data",
          "data": {
            "image/png": "[encoded data removed]",
            "text/plain": [
              "<Figure size 432x288 with 1 Axes>"
            ]
          },
          "metadata": {
            "tags": [],
            "needs_background": "light"
          }
        }
      ]
    },
    {
      "cell_type": "markdown",
      "metadata": {
        "id": "S9-8OyLc16mw"
      },
      "source": [
        "Here we observe that placed students are performing better than unplaced students\n",
        " \n",
        "*The range for unplaced students is approximately 32 to 75.\n",
        " \n",
        "*The range for placed students is approximately 65 to 88.\n",
        " \n",
        "*The interquartile range for unplaced students is approximately 55 to 65.\n",
        " \n",
        "*The interquartile range for placed students is approximately 72 to 76."
      ]
    },
    {
      "cell_type": "markdown",
      "metadata": {
        "id": "GLxxRk4i2FST"
      },
      "source": [
        "##4)Show the correlation between 2 variables using a scatter plot."
      ]
    },
    {
      "cell_type": "markdown",
      "metadata": {
        "id": "4safPgmw2QYx"
      },
      "source": [
        "###Find the correlation between SSC percentage and inter_Diploma_percentage by visual inspection using a scatter plot. What type of correlation do they have between them?"
      ]
    },
    {
      "cell_type": "code",
      "metadata": {
        "id": "81WJ5FVE2eEJ",
        "outputId": "ee0b5b35-79ee-4d4e-cb63-a0d7fc20cabe",
        "colab": {
          "base_uri": "https://localhost:8080/",
          "height": 272
        }
      },
      "source": [
        " plt.scatter(df[\"SSC Percentage\"],df[\"inter_Diploma_percentage\"])"
      ],
      "execution_count": 13,
      "outputs": [
        {
          "output_type": "execute_result",
          "data": {
            "text/plain": [
              "<matplotlib.collections.PathCollection at 0x7f992ed89320>"
            ]
          },
          "metadata": {
            "tags": []
          },
          "execution_count": 13
        },
        {
          "output_type": "display_data",
          "data": {
            "image/png": "[encoded data removed]",
            "text/plain": [
              "<Figure size 432x288 with 1 Axes>"
            ]
          },
          "metadata": {
            "tags": [],
            "needs_background": "light"
          }
        }
      ]
    },
    {
      "cell_type": "markdown",
      "metadata": {
        "id": "aJLAsUmo20k8"
      },
      "source": [
        "##5)Draw a histogram to show how data is distributed."
      ]
    },
    {
      "cell_type": "markdown",
      "metadata": {
        "id": "zt7c-ngY2-tT"
      },
      "source": [
        "###5.1) Draw a histogram to show the distribution of SSC percentage. Most of the people got score in which range"
      ]
    },
    {
      "cell_type": "code",
      "metadata": {
        "id": "X11YZ5Qw3Wmz",
        "outputId": "133b928e-3184-4484-cd1b-5ddc53c6804d",
        "colab": {
          "base_uri": "https://localhost:8080/",
          "height": 301
        }
      },
      "source": [
        " bins=np.linspace(0,100,11)\n",
        "print(bins)\n",
        "plt.hist(df[\"SSC Percentage\"],bins,width=9)\n",
        "plt.xlabel(\"SSC Percentage\")"
      ],
      "execution_count": 14,
      "outputs": [
        {
          "output_type": "stream",
          "text": [
            "[  0.  10.  20.  30.  40.  50.  60.  70.  80.  90. 100.]\n"
          ],
          "name": "stdout"
        },
        {
          "output_type": "execute_result",
          "data": {
            "text/plain": [
              "Text(0.5, 0, 'SSC Percentage')"
            ]
          },
          "metadata": {
            "tags": []
          },
          "execution_count": 14
        },
        {
          "output_type": "display_data",
          "data": {
            "image/png": "[encoded data removed]",
            "text/plain": [
              "<Figure size 432x288 with 1 Axes>"
            ]
          },
          "metadata": {
            "tags": [],
            "needs_background": "light"
          }
        }
      ]
    },
    {
      "cell_type": "markdown",
      "metadata": {
        "id": "kg4Tgoem3ZbF"
      },
      "source": [
        "Most of the people got SSC Percentage in range of 80-90"
      ]
    },
    {
      "cell_type": "markdown",
      "metadata": {
        "id": "wx24dPKU3lBV"
      },
      "source": [
        "##5.2) Draw a histogram to show the distribution of B.Tech percentage. Most of the people got a score in which range?"
      ]
    },
    {
      "cell_type": "code",
      "metadata": {
        "id": "be6Iv6vl3uJL",
        "outputId": "6c9cf1c1-5240-4bf7-93dd-9c77319534fe",
        "colab": {
          "base_uri": "https://localhost:8080/",
          "height": 302
        }
      },
      "source": [
        " bins=np.linspace(0,100,11)\n",
        "print(bins)\n",
        "plt.hist(df[\"B.Tech_percentage\"],bins,width=9)\n",
        "plt.xlabel(\"B.Tech_percentage\")"
      ],
      "execution_count": 15,
      "outputs": [
        {
          "output_type": "stream",
          "text": [
            "[  0.  10.  20.  30.  40.  50.  60.  70.  80.  90. 100.]\n"
          ],
          "name": "stdout"
        },
        {
          "output_type": "execute_result",
          "data": {
            "text/plain": [
              "Text(0.5, 0, 'B.Tech_percentage')"
            ]
          },
          "metadata": {
            "tags": []
          },
          "execution_count": 15
        },
        {
          "output_type": "display_data",
          "data": {
            "image/png": "[encoded data removed]",
            "text/plain": [
              "<Figure size 432x288 with 1 Axes>"
            ]
          },
          "metadata": {
            "tags": [],
            "needs_background": "light"
          }
        }
      ]
    },
    {
      "cell_type": "markdown",
      "metadata": {
        "id": "QisVxwbk4Cus"
      },
      "source": [
        "Most of the people got SSC Percentage in range of 80-90"
      ]
    },
    {
      "cell_type": "markdown",
      "metadata": {
        "id": "ZaDJDv1q4Hot"
      },
      "source": [
        "##5.3) Draw a histogram to show the distribution of Intermediate percentage. Most of the people got score in which range?"
      ]
    },
    {
      "cell_type": "code",
      "metadata": {
        "id": "Fx9TaAhc4Roq",
        "outputId": "4fd7712d-ae78-4e50-9f19-5179d4ac7e38",
        "colab": {
          "base_uri": "https://localhost:8080/",
          "height": 302
        }
      },
      "source": [
        " bins=np.linspace(0,100,11)\n",
        "print(bins)\n",
        "plt.hist(df[\"inter_Diploma_percentage\"],bins,width=9)\n",
        "plt.xlabel(\"inter_Diploma_percentage\")"
      ],
      "execution_count": 16,
      "outputs": [
        {
          "output_type": "stream",
          "text": [
            "[  0.  10.  20.  30.  40.  50.  60.  70.  80.  90. 100.]\n"
          ],
          "name": "stdout"
        },
        {
          "output_type": "execute_result",
          "data": {
            "text/plain": [
              "Text(0.5, 0, 'inter_Diploma_percentage')"
            ]
          },
          "metadata": {
            "tags": []
          },
          "execution_count": 16
        },
        {
          "output_type": "display_data",
          "data": {
            "image/png": "[encoded data removed]",
            "text/plain": [
              "<Figure size 432x288 with 1 Axes>"
            ]
          },
          "metadata": {
            "tags": [],
            "needs_background": "light"
          }
        }
      ]
    },
    {
      "cell_type": "markdown",
      "metadata": {
        "id": "IshV0OpZ4iTf"
      },
      "source": [
        "Most of the people got SSC Percentage in range of 80-90"
      ]
    },
    {
      "cell_type": "markdown",
      "metadata": {
        "id": "zeNTTlEB444f"
      },
      "source": [
        "##6)For the given data, show which attributes as a) continuous b) Ordered c) Binary¶"
      ]
    },
    {
      "cell_type": "code",
      "metadata": {
        "id": "YSA4J7u048eQ",
        "outputId": "b84266af-de11-4b49-97e5-7a791df12fd7",
        "colab": {
          "base_uri": "https://localhost:8080/",
          "height": 208
        }
      },
      "source": [
        " df.nunique()"
      ],
      "execution_count": 18,
      "outputs": [
        {
          "output_type": "execute_result",
          "data": {
            "text/plain": [
              "Roll No                               117\n",
              "Gender                                  2\n",
              "Section                                 2\n",
              "SSC Percentage                         88\n",
              "inter_Diploma_percentage               99\n",
              "B.Tech_percentage                     106\n",
              "Backlogs                               22\n",
              "registered_for_ Placement_Training      2\n",
              "placement status                        2\n",
              "dtype: int64"
            ]
          },
          "metadata": {
            "tags": []
          },
          "execution_count": 18
        }
      ]
    },
    {
      "cell_type": "markdown",
      "metadata": {
        "id": "Dv1qHZ1d5dlu"
      },
      "source": [
        "From the above Data,it is clear that Gender,Section,registered_for_Placement_Training,Placement status are binary attributes because they take only"
      ]
    },
    {
      "cell_type": "code",
      "metadata": {
        "id": "N2ast8QK5iZV",
        "outputId": "6ba18239-4182-45fb-b93a-4f090bd1a01e",
        "colab": {
          "base_uri": "https://localhost:8080/",
          "height": 208
        }
      },
      "source": [
        "df.dtypes"
      ],
      "execution_count": 19,
      "outputs": [
        {
          "output_type": "execute_result",
          "data": {
            "text/plain": [
              "Roll No                                 int64\n",
              "Gender                                 object\n",
              "Section                                object\n",
              "SSC Percentage                        float64\n",
              "inter_Diploma_percentage              float64\n",
              "B.Tech_percentage                     float64\n",
              "Backlogs                                int64\n",
              "registered_for_ Placement_Training     object\n",
              "placement status                       object\n",
              "dtype: object"
            ]
          },
          "metadata": {
            "tags": []
          },
          "execution_count": 19
        }
      ]
    },
    {
      "cell_type": "markdown",
      "metadata": {
        "id": "tVJq-fo95nwZ"
      },
      "source": [
        "SSC"
      ]
    },
    {
      "cell_type": "markdown",
      "metadata": {
        "id": "rBnbAbqY5yVN"
      },
      "source": [
        "Percentage,inter_Diploma_percentage and B.Tech_percentage are continuous and ordinal attributes."
      ]
    },
    {
      "cell_type": "markdown",
      "metadata": {
        "id": "KWKrw9mR50D8"
      },
      "source": [
        "Backlogs can be ordianal.It cannot take float value and there will be a limiton number of backlogs."
      ]
    }
  ]
}